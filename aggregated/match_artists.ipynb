{
 "cells": [
  {
   "cell_type": "code",
   "execution_count": 1,
   "metadata": {},
   "outputs": [],
   "source": [
    "\"\"\"\n",
    "Check all datasets\n",
    "\"\"\"\n",
    "%matplotlib inline\n",
    "%load_ext autotime\n",
    "%load_ext autoreload\n",
    "%autoreload\n",
    "import matplotlib\n",
    "import matplotlib.pyplot as plt\n",
    "import seaborn as sns\n",
    "plt.style.use('seaborn-deep')\n",
    "from ipywidgets import interact\n",
    "from ipywidgets import Controller\n",
    "\n",
    "from collections import defaultdict\n",
    "import numpy as np\n",
    "import os\n",
    "import sys\n",
    "import itertools\n",
    "from tqdm import tqdm\n",
    "import pandas as pd\n",
    "from pprint import pprint\n",
    "import regex as re\n",
    "sys.path.append('/export/home/asanakoy/workspace/neural_network')\n",
    "sys.path.append('/export/home/asanakoy/workspace/art_datasets')\n",
    "sys.path.append('/export/home/asanakoy/workspace/dataset_merger')\n",
    "import make_data.dataset\n",
    "import wikiart.info.preprocess_info\n",
    "from art_utils.pandas_tools import is_null_object\n",
    "from art_utils.text_tools import extract_all_years\n",
    "import dataset_merger.read_datasets\n",
    "import dataset_merger.pymongoext as pymongoext\n",
    "from dataset_merger.match_artists import fix_sim_matrix\n",
    "from dataset_merger.match_artists import generate_matches_for_manual_check\n",
    "from dataset_merger.match_artists import get_num_top_matches\n",
    "from dataset_merger.match_artists import compute_sim_matrix\n",
    "from dataset_merger.match_artists import find_connected_components\n",
    "from dataset_merger.match_artists import combine_artists\n",
    "from dataset_merger.match_artists import get_merged_artists_df\n",
    "import dataset_merger.prepare_artists as prepare_artists\n",
    "from dataset_merger.prepare_artists import get_artists_with_years\n",
    "\n",
    "pd.set_option('display.max_columns', 30)\n",
    "pd.set_option('display.width', 160)\n",
    "pd.set_option('display.max_colwidth', 50)  \n",
    "pd.set_option('display.max_columns', None) \n",
    "\n",
    "# todo: merge wga, wikiart, artuk, googleart (dates checked)\n",
    "# todo: make uniform dates (bio or active if no bio available) range for every artist in the dataset\n",
    "\n",
    "# todo: check dates on others\n",
    "# todo: chach should we split naems on `&` for other datasets (beyound artuk, wikiart, googleart, wga)\n",
    "# TOD: manually check connected components (wga, artuk)"
   ]
  },
  {
   "cell_type": "code",
   "execution_count": 2,
   "metadata": {},
   "outputs": [
    {
     "name": "stdout",
     "output_type": "stream",
     "text": [
      "artuk None\n",
      "artuk None 207585\n",
      "googleart None\n",
      "googleart None 102343\n",
      "moma None\n",
      "moma None 24708\n",
      "rijks None\n",
      "rijks None 96189\n",
      "wga None\n",
      "wga None 35375\n",
      "wiki None\n",
      "wiki None 132296\n",
      "meisterwerke None\n",
      "meisterwerke None 19647\n",
      "Total works count: 618143\n",
      "time: 13.9 s\n"
     ]
    }
   ],
   "source": [
    "dfs = dataset_merger.read_datasets.read_datasets()"
   ]
  },
  {
   "cell_type": "code",
   "execution_count": 3,
   "metadata": {},
   "outputs": [
    {
     "name": "stdout",
     "output_type": "stream",
     "text": [
      "time: 2.27 ms\n"
     ]
    }
   ],
   "source": [
    "# for key, df in dfs.iteritems():\n",
    "#     print key\n",
    "#     print df.columns\n",
    "#     print '==='\n",
    "    \n",
    "\n",
    "# print '--'\n",
    "# artist_names = np.unique(artist_names)\n",
    "# print 'Total unique artists num:', len(artist_names)\n",
    "# return artist_names"
   ]
  },
  {
   "cell_type": "code",
   "execution_count": 4,
   "metadata": {},
   "outputs": [
    {
     "name": "stdout",
     "output_type": "stream",
     "text": [
      ":: googleart\n"
     ]
    },
    {
     "name": "stderr",
     "output_type": "stream",
     "text": [
      " 32%|███▏      | 1362/4222 [00:00<00:00, 13615.11it/s]"
     ]
    },
    {
     "name": "stdout",
     "output_type": "stream",
     "text": [
      "with url_wiki: 2890\n"
     ]
    },
    {
     "name": "stderr",
     "output_type": "stream",
     "text": [
      "100%|██████████| 4222/4222 [00:00<00:00, 14718.56it/s]\n"
     ]
    },
    {
     "name": "stdout",
     "output_type": "stream",
     "text": [
      "Total artists: 4222\n",
      "Drop artists with NaN years_range 138\n",
      "Drop 0 unknown artists\n",
      "Total artists: 4084\n",
      ":: wiki\n"
     ]
    },
    {
     "name": "stderr",
     "output_type": "stream",
     "text": [
      " 59%|█████▉    | 1406/2384 [00:00<00:00, 14056.49it/s]"
     ]
    },
    {
     "name": "stdout",
     "output_type": "stream",
     "text": [
      "WARNING: Discard wrong wiki url:  http://www.myjapanesehanga.com/home/artists/asano-takeji-1900-1999\n",
      "WARNING: Discard wrong wiki url:  http://www.terminartors.com/artistprofile/Ilosvai_Varga_Istvan\n",
      "WARNING: Discard wrong wiki url:  http://www.phillipscollection.org/research/american_art/bios/knaths-bio.htm\n",
      "with url_wiki: 1923\n"
     ]
    },
    {
     "name": "stderr",
     "output_type": "stream",
     "text": [
      "100%|██████████| 2384/2384 [00:00<00:00, 13586.99it/s]\n"
     ]
    },
    {
     "name": "stdout",
     "output_type": "stream",
     "text": [
      "Total artists: 2384\n",
      "Drop artists with NaN years_range 6\n",
      "Drop 0 unknown artists\n",
      "Total artists: 2378\n",
      ":: wga\n"
     ]
    },
    {
     "name": "stderr",
     "output_type": "stream",
     "text": [
      " 30%|██▉       | 1372/4577 [00:00<00:00, 13689.46it/s]"
     ]
    },
    {
     "name": "stdout",
     "output_type": "stream",
     "text": [
      "with url_wiki: 26\n"
     ]
    },
    {
     "name": "stderr",
     "output_type": "stream",
     "text": [
      "100%|██████████| 4577/4577 [00:00<00:00, 10703.58it/s]\n"
     ]
    },
    {
     "name": "stdout",
     "output_type": "stream",
     "text": [
      "Total artists: 4577\n",
      "Drop artists with NaN years_range 0\n",
      "Drop 0 unknown artists\n",
      "Total artists: 4577\n",
      ":: artuk\n"
     ]
    },
    {
     "name": "stderr",
     "output_type": "stream",
     "text": [
      "\r",
      "  0%|          | 0/37074 [00:00<?, ?it/s]"
     ]
    },
    {
     "name": "stdout",
     "output_type": "stream",
     "text": [
      "with url_wiki: 0\n"
     ]
    },
    {
     "name": "stderr",
     "output_type": "stream",
     "text": [
      "100%|██████████| 37074/37074 [00:02<00:00, 14671.87it/s]\n"
     ]
    },
    {
     "name": "stdout",
     "output_type": "stream",
     "text": [
      "Total artists: 37074\n",
      "Drop artists with NaN years_range 3609\n",
      "Drop 0 unknown artists\n",
      "Total artists: 33465\n",
      ":: meisterwerke\n"
     ]
    },
    {
     "name": "stderr",
     "output_type": "stream",
     "text": [
      "100%|██████████| 2272/2272 [00:00<00:00, 15600.96it/s]"
     ]
    },
    {
     "name": "stdout",
     "output_type": "stream",
     "text": [
      "with url_wiki: 3\n",
      "Total artists: 2272\n",
      "Drop artists with NaN years_range 33\n",
      "Drop 17 unknown artists\n",
      "Total artists: 2222\n",
      ":: moma\n"
     ]
    },
    {
     "name": "stderr",
     "output_type": "stream",
     "text": [
      "\n",
      " 12%|█▏        | 1781/15247 [00:00<00:00, 17806.45it/s]"
     ]
    },
    {
     "name": "stdout",
     "output_type": "stream",
     "text": [
      "with url_wiki: 0\n"
     ]
    },
    {
     "name": "stderr",
     "output_type": "stream",
     "text": [
      "100%|██████████| 15247/15247 [00:00<00:00, 16581.35it/s]\n"
     ]
    },
    {
     "name": "stdout",
     "output_type": "stream",
     "text": [
      "Total artists: 15247\n",
      "Drop artists with NaN years_range 3576\n",
      "Drop 0 unknown artists\n",
      "Total artists: 11671\n",
      "time: 16.4 s\n"
     ]
    }
   ],
   "source": [
    "artists_with_years_dict = dict()\n",
    "artists_with_years_dict['googleart'] = get_artists_with_years('googleart', dfs)\n",
    "artists_with_years_dict['wiki'] = get_artists_with_years('wiki', dfs)\n",
    "artists_with_years_dict['wga'] = get_artists_with_years('wga', dfs)\n",
    "artists_with_years_dict['artuk'] = get_artists_with_years('artuk', dfs)\n",
    "artists_with_years_dict['meisterwerke'] = get_artists_with_years('meisterwerke', dfs)\n",
    "artists_with_years_dict['moma'] = get_artists_with_years('moma', dfs)"
   ]
  },
  {
   "cell_type": "code",
   "execution_count": null,
   "metadata": {
    "collapsed": true
   },
   "outputs": [],
   "source": []
  },
  {
   "cell_type": "code",
   "execution_count": 5,
   "metadata": {},
   "outputs": [
    {
     "name": "stdout",
     "output_type": "stream",
     "text": [
      "time: 3.96 ms\n"
     ]
    }
   ],
   "source": [
    "# artcyclopedia_artists = pymongoext.get_db_entries('129.206.117.36', 27017, 'artcyclopedia', 'found')\n",
    "# for x in artcyclopedia_artists:\n",
    "#     x['artcylopedia_name'] = x['name']\n",
    "#     del x['name']\n",
    "#     del x['_id']\n",
    "#     if 'content' in x:\n",
    "#         del x['content']\n",
    "# print len(artcyclopedia_artists)\n",
    "# print artcyclopedia_artists[:2]\n",
    "\n",
    "# artcyclopedia_df = pd.DataFrame.from_dict(artcyclopedia_artists)\n",
    "# artcyclopedia_df.index = artcyclopedia_df['artist_name']\n",
    "# artcyclopedia_df.rename(columns={'url': 'url_artcyclopedia'}, inplace=True)\n",
    "\n",
    "# # artists_df['url_artcyclopedia'] = artcyclopedia_df.loc[artist_names, 'url_artcyclopedia'].values\n",
    "# # print pd.notnull(artists_df['url_artcyclopedia']).sum()\n",
    "# print len(artcyclopedia_df)\n",
    "# print len(artcyclopedia_df['url_artcyclopedia'].unique())\n",
    "\n",
    "\n",
    "# artcyclopedia_df"
   ]
  },
  {
   "cell_type": "code",
   "execution_count": 6,
   "metadata": {},
   "outputs": [
    {
     "name": "stdout",
     "output_type": "stream",
     "text": [
      "time: 25 ms\n"
     ]
    }
   ],
   "source": [
    "def get_sim_matrix(dataset_names, shape=None, force=False, n_jobs=1):\n",
    "    assert len(dataset_names) == 2\n",
    "    str_name = '-'.join(dataset_names)\n",
    "    matrix_filepath = 'sim_matrix_{}.npy'.format(str_name)\n",
    "    if os.path.exists(matrix_filepath) and not force:\n",
    "        sim = np.load(matrix_filepath)\n",
    "        if shape is not None:\n",
    "            assert shape == sim.shape, '{} != {}'.format(shape, sim.shape)\n",
    "    else:\n",
    "        sim = compute_sim_matrix(keys, artists_with_years_dict, n_jobs=n_jobs)\n",
    "        np.save(matrix_filepath, sim)\n",
    "        print 'Sim matrix saved to {}'.format(matrix_filepath)\n",
    "    return sim\n",
    "\n",
    "def get_sim_matrix_and_plot(dataset_names, force=False, n_jobs=1):\n",
    "    str_name = '-'.join(dataset_names)\n",
    "    print str_name\n",
    "    shape = tuple([len(artists_with_years_dict[dataset_names[i]]) for i in xrange(2)])\n",
    "    sim_matrix[str_name] = get_sim_matrix(dataset_names, shape=shape, force=force, n_jobs=n_jobs)\n",
    "    print sim_matrix[str_name].shape\n",
    "    best_sim = sim_matrix[str_name].max(axis=1)\n",
    "    plt.hist(best_sim)\n",
    "    plt.show()\n",
    "\n",
    "sim_matrix = dict()"
   ]
  },
  {
   "cell_type": "code",
   "execution_count": null,
   "metadata": {
    "collapsed": true
   },
   "outputs": [],
   "source": []
  },
  {
   "cell_type": "code",
   "execution_count": null,
   "metadata": {
    "collapsed": true
   },
   "outputs": [],
   "source": []
  },
  {
   "cell_type": "code",
   "execution_count": null,
   "metadata": {
    "collapsed": true
   },
   "outputs": [],
   "source": []
  },
  {
   "cell_type": "code",
   "execution_count": null,
   "metadata": {
    "collapsed": true
   },
   "outputs": [],
   "source": []
  },
  {
   "cell_type": "code",
   "execution_count": null,
   "metadata": {
    "collapsed": true
   },
   "outputs": [],
   "source": []
  },
  {
   "cell_type": "code",
   "execution_count": null,
   "metadata": {
    "collapsed": true
   },
   "outputs": [],
   "source": []
  },
  {
   "cell_type": "code",
   "execution_count": null,
   "metadata": {
    "collapsed": true
   },
   "outputs": [],
   "source": []
  },
  {
   "cell_type": "code",
   "execution_count": null,
   "metadata": {
    "collapsed": true
   },
   "outputs": [],
   "source": []
  },
  {
   "cell_type": "code",
   "execution_count": null,
   "metadata": {
    "collapsed": true
   },
   "outputs": [],
   "source": []
  },
  {
   "cell_type": "code",
   "execution_count": 7,
   "metadata": {},
   "outputs": [
    {
     "name": "stdout",
     "output_type": "stream",
     "text": [
      "time: 23.6 ms\n"
     ]
    }
   ],
   "source": [
    "def check_pairs(dataset_names, transpose=False, \n",
    "                min_sim=85, max_sim=100, \n",
    "                discard_exaclty_matched_dates=False,\n",
    "                min_k=1, min_total_works_count=0):\n",
    "    assert len(dataset_names) == 2\n",
    "    sim = sim_matrix['-'.join(dataset_names)]\n",
    "    dfs_to_merge = [artists_with_years_dict[key] for key in dataset_names]\n",
    "\n",
    "    manually_checked_matches_path = 'manually_corrected_matches/{}_manually_corrected_matches.csv'.format('-'.join(dataset_names))\n",
    "    if os.path.exists(manually_checked_matches_path):\n",
    "        manually_checked_matches_df = pd.read_csv(manually_checked_matches_path, index_col=0, encoding='utf-8')\n",
    "        print 'manually checked pairs:', len(manually_checked_matches_df)\n",
    "        sim = fix_sim_matrix(dataset_names, \n",
    "                             dfs_to_merge, \n",
    "                             sim, \n",
    "                             manually_checked_matches_df)\n",
    "    \n",
    "    if transpose:\n",
    "        # Transpose matches\n",
    "        dataset_names = dataset_names[::-1]\n",
    "        dfs_to_merge = dfs_to_merge[::-1]\n",
    "        sim = sim.transpose()\n",
    "\n",
    "    results_df = generate_matches_for_manual_check(dataset_names, dfs_to_merge, \n",
    "                                                   sim, min_sim=min_sim, max_sim=max_sim,\n",
    "                                                   discard_exaclty_matched_dates=discard_exaclty_matched_dates,\n",
    "                                                   min_k=min_k, \n",
    "                                                   min_total_works_count=min_total_works_count)\n",
    "    output_path = '/export/home/asanakoy/workspace/dataset_merger/aggregated/{}_check_matches.csv'.format('-'.join(dataset_names))\n",
    "    results_df.to_csv(output_path, encoding='utf-8')\n",
    "    return results_df"
   ]
  },
  {
   "cell_type": "code",
   "execution_count": 8,
   "metadata": {},
   "outputs": [
    {
     "name": "stdout",
     "output_type": "stream",
     "text": [
      "time: 50.2 ms\n"
     ]
    }
   ],
   "source": [
    "def correct_ids_in_manually_checked_matches(dataset_names):\n",
    "    \"\"\"\n",
    "        Check each pair in manually_checked_matches and change $artist_id to one from 'artist_ids' list (if possible)\n",
    "        if $artist_id is not currently in index of the artist_df\n",
    "    \"\"\"\n",
    "    \n",
    "    manually_checked_matches_path = 'manually_corrected_matches/{}_manually_corrected_matches.csv'.format('-'.join(dataset_names))\n",
    "    if not os.path.exists(manually_checked_matches_path):\n",
    "        raise IOError('File {} not found'.format(manually_checked_matches_path))\n",
    "    manually_checked_matches_df = pd.read_csv(manually_checked_matches_path, index_col=0, encoding='utf-8')\n",
    "    print 'manually checked pairs:', len(manually_checked_matches_df)\n",
    "\n",
    "    dfs_to_merge = [artists_with_years_dict[key] for key in dataset_names]\n",
    "    \n",
    "    def convert_to_valid_idx(artists_df, artist_id):\n",
    "        if artist_id not in artists_df.index:\n",
    "            found_idxs = np.nonzero(artists_df['artist_ids'].apply(lambda x: artist_id in x))[0]\n",
    "            if len(found_idxs):\n",
    "                assert len(found_idxs) == 1, '{}: {}'.format(artist_id, found_idxs)\n",
    "                artist_id = artists_df.index[found_idxs[0]]\n",
    "        return artist_id\n",
    "        \n",
    "    \n",
    "    def is_valid_pairs(row):\n",
    "        for i in xrange(2):\n",
    "            artist_id = row['artist_id_' + dataset_names[i]]\n",
    "            if artist_id not in dfs_to_merge[i].index:\n",
    "                return False\n",
    "        return True\n",
    "    \n",
    "    is_valid = manually_checked_matches_df.apply(is_valid_pairs, axis=1)\n",
    "    print 'not valid before fixes:', (~is_valid).sum()\n",
    "    print manually_checked_matches_df[~is_valid]\n",
    "    \n",
    "    for i in xrange(2):\n",
    "        manually_checked_matches_df['artist_id_' + dataset_names[i]] = \\\n",
    "            manually_checked_matches_df['artist_id_' + dataset_names[i]] \\\n",
    "            .apply(lambda x: convert_to_valid_idx(dfs_to_merge[i], x))\n",
    "    \n",
    "    is_valid = manually_checked_matches_df.apply(is_valid_pairs, axis=1)\n",
    "    print 'not valid', (~is_valid).sum()\n",
    "    print manually_checked_matches_df[~is_valid]\n",
    "    return manually_checked_matches_df\n",
    "\n",
    "# dataset_names = ['wiki+googleart', 'wga']\n",
    "# dataset_names = ['wiki+googleart+wga', 'meisterwerke']\n",
    "# manually_checked_matches_df = correct_ids_in_manually_checked_matches(dataset_names)\n",
    "# manually_checked_matches_path = 'manually_corrected_matches/{}_manually_corrected_matches.csv'.format('-'.join(dataset_names))\n",
    "# manually_checked_matches_df.to_csv(manually_checked_matches_path, encoding='utf-8')"
   ]
  },
  {
   "cell_type": "code",
   "execution_count": 9,
   "metadata": {},
   "outputs": [
    {
     "name": "stdout",
     "output_type": "stream",
     "text": [
      "time: 11.3 ms\n"
     ]
    }
   ],
   "source": [
    "# def fix_wga_ids(matches_df):\n",
    "    \n",
    "#     def years_range_to_suffix(years_range):\n",
    "#         if not isinstance(years_range, float):\n",
    "#             assert isinstance(years_range, list)\n",
    "#             return ', ({}-{})'.format(*np.asarray(years_range, dtype=int))\n",
    "#         else:\n",
    "#             return ''\n",
    "    \n",
    "#     matches_df = matches_df.copy()\n",
    "#     fixed_bio_df = pd.read_csv('/export/home/asanakoy/workspace/wga/info/duplicate_artists_fixed_bio.csv', encoding='utf-8', header=0)\n",
    "#     for row in fixed_bio_df.itertuples():\n",
    "#         new_years_bio = map(int, re.split(r',|-', row.fixed_bio.strip()))\n",
    "#         mask = matches_df['artist_id_wga'] == row.artist_id\n",
    "#         matches_df.loc[mask, 'dates_wga'] = matches_df.loc[mask, 'dates_wga'].apply(lambda _: new_years_bio)\n",
    "#         matches_df.loc[mask, 'artist_id_wga'] = matches_df.loc[mask, 'artist_id_wga'].apply(lambda x: x.rsplit(',', 1)[0] + \n",
    "#                                                                            years_range_to_suffix(new_years_bio))\n",
    "#     return matches_df\n",
    "\n",
    "# dataset_names = ['wiki+googleart', 'wga']\n",
    "# manually_checked_matches_df = fix_wga_ids(manually_checked_matches_df)\n",
    "# manually_checked_matches_path = 'manually_corrected_matches/{}_manually_corrected_matches.csv'.format('-'.join(dataset_names))\n",
    "# manually_checked_matches_df.to_csv(manually_checked_matches_path, encoding='utf-8')"
   ]
  },
  {
   "cell_type": "code",
   "execution_count": null,
   "metadata": {
    "collapsed": true
   },
   "outputs": [],
   "source": []
  },
  {
   "cell_type": "code",
   "execution_count": null,
   "metadata": {
    "collapsed": true
   },
   "outputs": [],
   "source": []
  },
  {
   "cell_type": "code",
   "execution_count": null,
   "metadata": {
    "collapsed": true
   },
   "outputs": [],
   "source": []
  },
  {
   "cell_type": "code",
   "execution_count": null,
   "metadata": {
    "collapsed": true
   },
   "outputs": [],
   "source": []
  },
  {
   "cell_type": "code",
   "execution_count": null,
   "metadata": {
    "collapsed": true
   },
   "outputs": [],
   "source": []
  },
  {
   "cell_type": "code",
   "execution_count": null,
   "metadata": {
    "collapsed": true
   },
   "outputs": [],
   "source": []
  },
  {
   "cell_type": "code",
   "execution_count": null,
   "metadata": {
    "collapsed": true
   },
   "outputs": [],
   "source": []
  },
  {
   "cell_type": "code",
   "execution_count": null,
   "metadata": {
    "collapsed": true
   },
   "outputs": [],
   "source": []
  },
  {
   "cell_type": "code",
   "execution_count": null,
   "metadata": {
    "collapsed": true
   },
   "outputs": [],
   "source": []
  },
  {
   "cell_type": "code",
   "execution_count": null,
   "metadata": {
    "collapsed": true
   },
   "outputs": [],
   "source": []
  },
  {
   "cell_type": "code",
   "execution_count": null,
   "metadata": {
    "collapsed": true
   },
   "outputs": [],
   "source": []
  },
  {
   "cell_type": "code",
   "execution_count": 10,
   "metadata": {},
   "outputs": [
    {
     "name": "stdout",
     "output_type": "stream",
     "text": [
      "time: 126 ms\n"
     ]
    }
   ],
   "source": [
    "%autoreload"
   ]
  },
  {
   "cell_type": "code",
   "execution_count": 11,
   "metadata": {},
   "outputs": [
    {
     "name": "stdout",
     "output_type": "stream",
     "text": [
      "wiki-googleart\n"
     ]
    },
    {
     "name": "stderr",
     "output_type": "stream",
     "text": [
      "\r",
      "  0%|          | 0/2378 [00:00<?, ?it/s]"
     ]
    },
    {
     "name": "stdout",
     "output_type": "stream",
     "text": [
      "Num taks: 2378\n"
     ]
    },
    {
     "name": "stderr",
     "output_type": "stream",
     "text": [
      "  2%|▏         | 38/2378 [00:03<16:17,  2.39it/s][Parallel(n_jobs=16)]: Done   9 tasks      | elapsed:    2.0s\n",
      "  3%|▎         | 70/2378 [00:06<04:34,  8.40it/s][Parallel(n_jobs=16)]: Done  40 tasks      | elapsed:    4.8s\n",
      "  5%|▍         | 110/2378 [00:09<03:24, 11.09it/s][Parallel(n_jobs=16)]: Done  81 tasks      | elapsed:    8.3s\n",
      "  7%|▋         | 160/2378 [00:13<03:03, 12.06it/s][Parallel(n_jobs=16)]: Done 130 tasks      | elapsed:   12.6s\n",
      "  9%|▉         | 219/2378 [00:18<02:43, 13.24it/s][Parallel(n_jobs=16)]: Done 189 tasks      | elapsed:   17.7s\n",
      " 12%|█▏        | 286/2378 [00:25<03:34,  9.74it/s][Parallel(n_jobs=16)]: Done 256 tasks      | elapsed:   24.2s\n",
      " 15%|█▌        | 362/2378 [00:32<02:46, 12.09it/s][Parallel(n_jobs=16)]: Done 333 tasks      | elapsed:   31.7s\n",
      " 19%|█▉        | 447/2378 [00:40<02:39, 12.13it/s][Parallel(n_jobs=16)]: Done 418 tasks      | elapsed:   39.3s\n",
      " 23%|██▎       | 542/2378 [00:48<02:27, 12.42it/s][Parallel(n_jobs=16)]: Done 513 tasks      | elapsed:   47.3s\n",
      " 27%|██▋       | 644/2378 [00:57<02:18, 12.55it/s][Parallel(n_jobs=16)]: Done 616 tasks      | elapsed:   56.2s\n",
      " 32%|███▏      | 757/2378 [01:08<02:57,  9.12it/s][Parallel(n_jobs=16)]: Done 729 tasks      | elapsed:  1.1min\n",
      " 37%|███▋      | 879/2378 [01:18<02:00, 12.49it/s][Parallel(n_jobs=16)]: Done 850 tasks      | elapsed:  1.3min\n",
      " 42%|████▏     | 1010/2378 [01:31<02:16, 10.04it/s][Parallel(n_jobs=16)]: Done 981 tasks      | elapsed:  1.5min\n",
      " 48%|████▊     | 1149/2378 [01:43<01:43, 11.82it/s][Parallel(n_jobs=16)]: Done 1120 tasks      | elapsed:  1.7min\n",
      " 55%|█████▍    | 1299/2378 [01:57<01:24, 12.80it/s][Parallel(n_jobs=16)]: Done 1269 tasks      | elapsed:  1.9min\n",
      " 61%|██████    | 1455/2378 [02:11<01:08, 13.39it/s][Parallel(n_jobs=16)]: Done 1426 tasks      | elapsed:  2.2min\n",
      " 68%|██████▊   | 1622/2378 [02:27<01:31,  8.25it/s][Parallel(n_jobs=16)]: Done 1593 tasks      | elapsed:  2.4min\n",
      " 76%|███████▌  | 1798/2378 [02:43<01:00,  9.53it/s][Parallel(n_jobs=16)]: Done 1768 tasks      | elapsed:  2.7min\n",
      " 83%|████████▎ | 1983/2378 [02:59<00:30, 12.88it/s][Parallel(n_jobs=16)]: Done 1953 tasks      | elapsed:  3.0min\n",
      " 91%|█████████▏| 2175/2378 [03:17<00:17, 11.76it/s][Parallel(n_jobs=16)]: Done 2146 tasks      | elapsed:  3.3min\n",
      "100%|██████████| 2378/2378 [03:34<00:00, 10.69it/s]\n",
      "[Parallel(n_jobs=16)]: Done 2378 out of 2378 | elapsed:  3.7min finished\n"
     ]
    },
    {
     "name": "stdout",
     "output_type": "stream",
     "text": [
      "Sim matrix saved to sim_matrix_wiki-googleart.npy\n",
      "(2378, 4084)\n"
     ]
    },
    {
     "data": {
      "image/png": "[encoded data removed]",
      "text/plain": [
       "<matplotlib.figure.Figure at 0x7f4e190f1290>"
      ]
     },
     "metadata": {},
     "output_type": "display_data"
    },
    {
     "name": "stdout",
     "output_type": "stream",
     "text": [
      "time: 3min 43s\n"
     ]
    }
   ],
   "source": [
    "keys = ['wiki', 'googleart']\n",
    "get_sim_matrix_and_plot(keys, force=True, n_jobs=16)\n",
    "\n",
    "# keys = ['wga', 'artuk']\n",
    "# get_sim_matrix_and_plot(keys)"
   ]
  },
  {
   "cell_type": "code",
   "execution_count": 12,
   "metadata": {},
   "outputs": [
    {
     "name": "stdout",
     "output_type": "stream",
     "text": [
      "manually checked pairs: 175\n",
      "Not found googleart: :googleart_m06vf96:\n",
      "Not found googleart: :googleart_m0t502qr:\n",
      "Not found googleart: :googleart_m0420fk:\n",
      "Not found googleart: :googleart_t219hrtqpy4:\n",
      "Not found googleart: :googleart_t219hrtqpy4:\n",
      "count: 0\n",
      "0\n"
     ]
    },
    {
     "data": {
      "text/html": [
       "<div>\n",
       "<table border=\"1\" class=\"dataframe\">\n",
       "  <thead>\n",
       "    <tr style=\"text-align: right;\">\n",
       "      <th></th>\n",
       "    </tr>\n",
       "  </thead>\n",
       "  <tbody>\n",
       "  </tbody>\n",
       "</table>\n",
       "</div>"
      ],
      "text/plain": [
       "Empty DataFrame\n",
       "Columns: []\n",
       "Index: []"
      ]
     },
     "execution_count": 12,
     "metadata": {},
     "output_type": "execute_result"
    },
    {
     "name": "stdout",
     "output_type": "stream",
     "text": [
      "time: 845 ms\n"
     ]
    }
   ],
   "source": [
    "check_pairs(['wiki', 'googleart'], \n",
    "            transpose=False,\n",
    "            min_sim=76, max_sim=101, \n",
    "            discard_exaclty_matched_dates=True,\n",
    "            min_k=1)"
   ]
  },
  {
   "cell_type": "code",
   "execution_count": 13,
   "metadata": {},
   "outputs": [
    {
     "name": "stdout",
     "output_type": "stream",
     "text": [
      "art_institution                                                         NaN\n",
      "art_movement                                                      [realism]\n",
      "artist_id                                   wiki_johan-hendrik-weissenbruch\n",
      "artist_name                                      johan hendrik weissenbruch\n",
      "birth_date                                                     19 june 1824\n",
      "death_date                                                    24 march 1903\n",
      "description                                                             NaN\n",
      "field                                                            [painting]\n",
      "friends_and_co-workers                                                  NaN\n",
      "genre                                                           [landscape]\n",
      "influenced_by                                                           NaN\n",
      "influenced_on                                                           NaN\n",
      "nationality                                                         [dutch]\n",
      "painting_school                                              [hague school]\n",
      "place_of_birth                                       the hague, netherlands\n",
      "place_of_death                                       the hague, netherlands\n",
      "url_wiki                  https://en.wikipedia.org/wiki/Jan_Hendrik_Weis...\n",
      "artist_names                                   [johan hendrik weissenbruch]\n",
      "years_bio                                                      [1824, 1903]\n",
      "style                                                                   NaN\n",
      "artist_id_degruyter                                                     NaN\n",
      "gender                                                                  NaN\n",
      "wikidata_qid                                                       Q1691988\n",
      "years                     [nan, nan, nan, nan, nan, nan, nan, 1893.0, 18...\n",
      "works_count                                                              82\n",
      "years_work                                                 [1847.0, 1903.0]\n",
      "years_range                                                    [1824, 1903]\n",
      "artist_ids                                [wiki_johan-hendrik-weissenbruch]\n",
      "Name: wiki_johan-hendrik-weissenbruch, dtype: object\n",
      "---\n",
      "artist_id                                             googleart_m026t8y5\n",
      "bio                    Hendrik Johannes Weissenbruch was a Dutch pain...\n",
      "artist_name                                   johan hendrik weissenbruch\n",
      "page_url               https://www.google.com/culturalinstitute/beta/...\n",
      "total_items_count                                                     21\n",
      "url_wiki               https://en.wikipedia.org/wiki/Jan_Hendrik_Weis...\n",
      "artist_slug                                   johan-hendrik-weissenbruch\n",
      "artist_names                                [johan hendrik weissenbruch]\n",
      "years_bio                                                   [1824, 1903]\n",
      "nationality                                                          NaN\n",
      "style                                                                NaN\n",
      "artist_id_degruyter                                                  NaN\n",
      "gender                                                               NaN\n",
      "place_of_birth                                                       NaN\n",
      "place_of_death                                                       NaN\n",
      "wikidata_qid                                                    Q1691988\n",
      "years                  [1873.0, 1870.0, 1887.0, 1890.0, 1873.0, 1887....\n",
      "works_count                                                           21\n",
      "years_work                                              [1847.0, 1903.0]\n",
      "years_range                                                 [1824, 1903]\n",
      "artist_ids                                          [googleart_m026t8y5]\n",
      "Name: googleart_m026t8y5, dtype: object\n",
      "---\n",
      "[1195, 455]\n",
      "sim= 101.0\n",
      "time: 64.7 ms\n"
     ]
    }
   ],
   "source": [
    "def check_sim_values(dataset_names, artist_ids):\n",
    "    cur_dfs = [artists_with_years_dict[key] for key in dataset_names]\n",
    "    indices = [0, 0]\n",
    "    for i in xrange(2):\n",
    "        idx = np.nonzero(cur_dfs[i]['artist_id'] == artist_ids[i])[0][0]\n",
    "        print cur_dfs[i].iloc[idx]\n",
    "        print '---'\n",
    "        indices[i] = idx\n",
    "    print indices\n",
    "    sim = get_sim_matrix(dataset_names, force=False)\n",
    "    print 'sim=', sim[indices[0], indices[1]]\n",
    "\n",
    "check_sim_values(['wiki', 'googleart'], ['wiki_johan-hendrik-weissenbruch', 'googleart_m026t8y5'])"
   ]
  },
  {
   "cell_type": "code",
   "execution_count": null,
   "metadata": {
    "collapsed": true
   },
   "outputs": [],
   "source": []
  },
  {
   "cell_type": "code",
   "execution_count": null,
   "metadata": {},
   "outputs": [
    {
     "name": "stdout",
     "output_type": "stream",
     "text": [
      "Not found googleart: :googleart_m06vf96:\n",
      "Not found googleart: :googleart_m0t502qr:\n",
      "Not found googleart: :googleart_m0420fk:\n"
     ]
    },
    {
     "name": "stderr",
     "output_type": "stream",
     "text": [
      "\r",
      "  0%|          | 0/2378 [00:00<?, ?it/s]"
     ]
    },
    {
     "name": "stdout",
     "output_type": "stream",
     "text": [
      "Not found googleart: :googleart_t219hrtqpy4:\n",
      "Not found googleart: :googleart_t219hrtqpy4:\n",
      "connected_components at the beginning: 6462\n"
     ]
    },
    {
     "name": "stderr",
     "output_type": "stream",
     "text": [
      "100%|██████████| 2378/2378 [00:04<00:00, 493.31it/s]\n",
      "  1%|▏         | 83/5711 [00:00<00:06, 828.29it/s]"
     ]
    },
    {
     "name": "stdout",
     "output_type": "stream",
     "text": [
      "connected_components: 5711\n",
      "big_components number: 0\n"
     ]
    },
    {
     "name": "stderr",
     "output_type": "stream",
     "text": [
      "100%|██████████| 5711/5711 [00:05<00:00, 1012.84it/s]\n"
     ]
    },
    {
     "name": "stdout",
     "output_type": "stream",
     "text": [
      "time: 11.1 s\n"
     ]
    }
   ],
   "source": [
    "dataset_names = ['wiki', 'googleart']\n",
    "sim = sim_matrix['-'.join(dataset_names)]\n",
    "dfs_to_merge = [artists_with_years_dict[key] for key in dataset_names]\n",
    "\n",
    "merged_df = get_merged_artists_df(dataset_names, dfs_to_merge, sim, allow_big_components=False)\n",
    "artists_with_years_dict['wiki+googleart'] = merged_df"
   ]
  },
  {
   "cell_type": "code",
   "execution_count": null,
   "metadata": {
    "collapsed": true
   },
   "outputs": [],
   "source": []
  },
  {
   "cell_type": "code",
   "execution_count": null,
   "metadata": {
    "scrolled": true
   },
   "outputs": [
    {
     "name": "stdout",
     "output_type": "stream",
     "text": [
      "wiki+googleart-wga\n"
     ]
    },
    {
     "name": "stderr",
     "output_type": "stream",
     "text": [
      "\r",
      "  0%|          | 0/5711 [00:00<?, ?it/s]"
     ]
    },
    {
     "name": "stdout",
     "output_type": "stream",
     "text": [
      "Num taks: 5711\n"
     ]
    },
    {
     "name": "stderr",
     "output_type": "stream",
     "text": [
      "  1%|          | 39/5711 [00:02<35:18,  2.68it/s]  [Parallel(n_jobs=16)]: Done   9 tasks      | elapsed:    1.8s\n",
      "  1%|          | 68/5711 [00:06<15:28,  6.07it/s][Parallel(n_jobs=16)]: Done  40 tasks      | elapsed:    5.1s\n",
      "  2%|▏         | 111/5711 [00:09<10:54,  8.55it/s][Parallel(n_jobs=16)]: Done  81 tasks      | elapsed:    9.0s\n",
      "  3%|▎         | 159/5711 [00:14<08:44, 10.58it/s][Parallel(n_jobs=16)]: Done 130 tasks      | elapsed:   13.3s\n",
      "  4%|▍         | 219/5711 [00:19<09:05, 10.07it/s][Parallel(n_jobs=16)]: Done 189 tasks      | elapsed:   18.8s\n",
      "  5%|▍         | 285/5711 [00:26<10:32,  8.58it/s][Parallel(n_jobs=16)]: Done 256 tasks      | elapsed:   25.6s\n",
      "  6%|▋         | 362/5711 [00:34<09:18,  9.58it/s][Parallel(n_jobs=16)]: Done 333 tasks      | elapsed:   33.6s\n",
      "  8%|▊         | 448/5711 [00:42<11:14,  7.80it/s][Parallel(n_jobs=16)]: Done 418 tasks      | elapsed:   41.3s\n",
      "  9%|▉         | 542/5711 [00:50<08:44,  9.86it/s][Parallel(n_jobs=16)]: Done 513 tasks      | elapsed:   49.7s\n",
      " 11%|█▏        | 646/5711 [01:00<08:11, 10.31it/s][Parallel(n_jobs=16)]: Done 616 tasks      | elapsed:   59.5s\n",
      " 13%|█▎        | 758/5711 [01:11<08:08, 10.15it/s][Parallel(n_jobs=16)]: Done 729 tasks      | elapsed:  1.2min\n",
      " 15%|█▌        | 879/5711 [01:22<06:33, 12.27it/s][Parallel(n_jobs=16)]: Done 850 tasks      | elapsed:  1.4min\n",
      " 18%|█▊        | 1010/5711 [01:34<06:25, 12.21it/s][Parallel(n_jobs=16)]: Done 981 tasks      | elapsed:  1.6min\n",
      " 20%|██        | 1149/5711 [01:48<06:04, 12.51it/s][Parallel(n_jobs=16)]: Done 1120 tasks      | elapsed:  1.8min\n",
      " 23%|██▎       | 1299/5711 [02:02<07:33,  9.72it/s][Parallel(n_jobs=16)]: Done 1269 tasks      | elapsed:  2.0min\n",
      " 25%|██▌       | 1456/5711 [02:17<05:24, 13.12it/s][Parallel(n_jobs=16)]: Done 1426 tasks      | elapsed:  2.3min\n",
      " 28%|██▊       | 1623/5711 [02:32<05:12, 13.07it/s][Parallel(n_jobs=16)]: Done 1593 tasks      | elapsed:  2.5min\n",
      " 31%|███▏      | 1797/5711 [02:49<07:40,  8.50it/s][Parallel(n_jobs=16)]: Done 1768 tasks      | elapsed:  2.8min\n",
      " 35%|███▍      | 1981/5711 [03:07<04:26, 14.02it/s][Parallel(n_jobs=16)]: Done 1953 tasks      | elapsed:  3.1min\n",
      " 38%|███▊      | 2174/5711 [03:26<08:02,  7.33it/s][Parallel(n_jobs=16)]: Done 2146 tasks      | elapsed:  3.4min\n",
      " 42%|████▏     | 2378/5711 [03:45<04:41, 11.85it/s][Parallel(n_jobs=16)]: Done 2349 tasks      | elapsed:  3.7min\n",
      " 45%|████▌     | 2590/5711 [04:05<03:54, 13.29it/s][Parallel(n_jobs=16)]: Done 2560 tasks      | elapsed:  4.1min\n",
      " 49%|████▉     | 2810/5711 [04:25<05:09,  9.38it/s][Parallel(n_jobs=16)]: Done 2781 tasks      | elapsed:  4.4min\n",
      " 53%|█████▎    | 3039/5711 [04:45<04:35,  9.71it/s][Parallel(n_jobs=16)]: Done 3010 tasks      | elapsed:  4.7min\n",
      " 57%|█████▋    | 3276/5711 [05:07<04:21,  9.30it/s][Parallel(n_jobs=16)]: Done 3249 tasks      | elapsed:  5.1min\n",
      " 62%|██████▏   | 3525/5711 [05:29<03:23, 10.77it/s][Parallel(n_jobs=16)]: Done 3496 tasks      | elapsed:  5.5min\n",
      " 66%|██████▌   | 3782/5711 [05:52<03:00, 10.72it/s][Parallel(n_jobs=16)]: Done 3753 tasks      | elapsed:  5.9min\n",
      " 71%|███████   | 4047/5711 [06:16<02:14, 12.33it/s][Parallel(n_jobs=16)]: Done 4018 tasks      | elapsed:  6.3min\n",
      " 76%|███████▌  | 4323/5711 [06:41<02:29,  9.31it/s][Parallel(n_jobs=16)]: Done 4293 tasks      | elapsed:  6.7min\n",
      " 81%|████████  | 4603/5711 [07:08<02:34,  7.17it/s][Parallel(n_jobs=16)]: Done 4576 tasks      | elapsed:  7.1min\n",
      " 84%|████████▎ | 4781/5711 [07:25<01:27, 10.65it/s]"
     ]
    }
   ],
   "source": [
    "%autoreload\n",
    "keys = ['wiki+googleart', 'wga']\n",
    "get_sim_matrix_and_plot(keys, force=True, n_jobs=16)"
   ]
  },
  {
   "cell_type": "code",
   "execution_count": null,
   "metadata": {},
   "outputs": [],
   "source": [
    "%autoreload\n",
    "dataset_names = ['wiki+googleart', 'wga']\n",
    "results_df = check_pairs(dataset_names, \n",
    "                transpose=False,\n",
    "                min_sim=78, max_sim=120, \n",
    "                discard_exaclty_matched_dates=False,\n",
    "                min_k=2)\n",
    "\n",
    "if len(results_df):\n",
    "    results_df['year_diff'] = results_df.apply(lambda x: [abs(x['dates_' + dataset_names[0]][i] - x['dates_' + dataset_names[1]][i]) for i in range(2)], axis=1)\n",
    "results_df\n",
    "\n",
    "# Transposed\n",
    "results_df_transposed = check_pairs(dataset_names, \n",
    "                transpose=True,\n",
    "                min_sim=78, max_sim=121, \n",
    "                discard_exaclty_matched_dates=False,\n",
    "                min_k=2)\n",
    "if len(results_df_transposed):\n",
    "    results_df_transposed['year_diff'] = results_df_transposed.apply(lambda x: [abs(x['dates_' + dataset_names[0]][i] - x['dates_' + dataset_names[1]][i]) for i in range(2)], axis=1)\n",
    "\n",
    "if len(results_df):\n",
    "    appended = results_df.append(results_df_transposed, ignore_index=True)\n",
    "    appended = appended.drop_duplicates(['artist_id_wga', 'artist_id_wiki+googleart'])\n",
    "    appended = appended[results_df.columns]\n",
    "else:\n",
    "    appended = results_df_transposed\n",
    "\n",
    "# appended = results_df\n",
    "output_path = '/export/home/asanakoy/workspace/dataset_merger/aggregated/{}_check_matches.csv'.format('-'.join(dataset_names))\n",
    "appended.to_csv(output_path, encoding='utf-8')\n",
    "print 'Total rows', len(appended)\n",
    "appended"
   ]
  },
  {
   "cell_type": "code",
   "execution_count": null,
   "metadata": {
    "collapsed": true
   },
   "outputs": [],
   "source": []
  },
  {
   "cell_type": "code",
   "execution_count": null,
   "metadata": {
    "collapsed": true
   },
   "outputs": [],
   "source": []
  },
  {
   "cell_type": "code",
   "execution_count": null,
   "metadata": {
    "collapsed": true
   },
   "outputs": [],
   "source": []
  },
  {
   "cell_type": "code",
   "execution_count": null,
   "metadata": {},
   "outputs": [],
   "source": [
    "# artists_with_years_dict['googleart']['url_wiki'] = artists_with_years_dict['googleart']['url_wiki'].apply(lambda x: 'https://en.wikipedia.org/wiki/ernest_meissonier' if x == 'http://en.wikipedia.org/wiki/jean-louis-ernest_meissonier' else x)\n",
    "\n",
    "\n",
    "# ids = list()\n",
    "# for comp in big_comp_wiki_googleart:\n",
    "#     comp = sorted(list(comp))\n",
    "#     ids.extend(comp[:2])\n",
    "# artists_with_years_dict['wiki+googleart'][['artist_name', 'years_range', 'url_wiki']].iloc[ids]"
   ]
  },
  {
   "cell_type": "code",
   "execution_count": null,
   "metadata": {
    "collapsed": true
   },
   "outputs": [],
   "source": []
  },
  {
   "cell_type": "code",
   "execution_count": null,
   "metadata": {
    "scrolled": true
   },
   "outputs": [],
   "source": [
    "dataset_names = ['wiki+googleart', 'wga']\n",
    "sim = sim_matrix['-'.join(dataset_names)]\n",
    "dfs_to_merge = [artists_with_years_dict[key] for key in dataset_names]\n",
    "\n",
    "merged_df = get_merged_artists_df(dataset_names, dfs_to_merge, sim, allow_big_components=False)\n",
    "artists_with_years_dict['+'.join(dataset_names)] = merged_df\n",
    "merged_df.to_hdf('artists_{}.hdf5'.format('+'.join(dataset_names)), 'df', mode='w')\n",
    "# merged_df"
   ]
  },
  {
   "cell_type": "code",
   "execution_count": null,
   "metadata": {},
   "outputs": [],
   "source": [
    "artists_with_years_dict.keys()"
   ]
  },
  {
   "cell_type": "code",
   "execution_count": null,
   "metadata": {},
   "outputs": [],
   "source": [
    "dataset_names = ['wiki', 'googleart', 'wga', 'wiki+googleart+wga']\n",
    "for key in dataset_names:\n",
    "    print '{}: {} unique artists'.format(key, len(artists_with_years_dict[key]))"
   ]
  },
  {
   "cell_type": "code",
   "execution_count": null,
   "metadata": {
    "scrolled": true
   },
   "outputs": [],
   "source": [
    "##### MEISTERWERKE #######\n",
    "\n",
    "%autoreload\n",
    "keys = ['wiki+googleart+wga', 'meisterwerke']\n",
    "get_sim_matrix_and_plot(keys, force=True, n_jobs=16)"
   ]
  },
  {
   "cell_type": "code",
   "execution_count": null,
   "metadata": {},
   "outputs": [],
   "source": [
    "def get_pairs_from_the_same_dataset(dataset_names, df, min_sim=102):\n",
    "    df = df[df['score'] >= min_sim].copy()\n",
    "    fir_ids_col = 'artist_id_' + dataset_names[0]\n",
    "    sec_ids_col = 'artist_id_' + dataset_names[1]\n",
    "    df.index = df[sec_ids_col]\n",
    "    df_gr = pd.DataFrame(data={sec_ids_col: \n",
    "                            df.groupby(fir_ids_col)[sec_ids_col].apply(list)})\n",
    "    df_gr['dates'] = df_gr[sec_ids_col].apply(lambda x: [df.at[el, 'dates_' + dataset_names[1]] for el in x])\n",
    "    df_gr[sec_ids_col] = df_gr[sec_ids_col].apply(lambda x: ';'.join(x))\n",
    "    return df_gr"
   ]
  },
  {
   "cell_type": "code",
   "execution_count": null,
   "metadata": {},
   "outputs": [],
   "source": [
    "##### MEISTERWERKE #######\n",
    "%autoreload\n",
    "dataset_names = ['wiki+googleart+wga', 'meisterwerke']\n",
    "results_df = []\n",
    "results_df = check_pairs(dataset_names, \n",
    "                transpose=False,\n",
    "                min_sim=85, max_sim=101, \n",
    "                discard_exaclty_matched_dates=False,\n",
    "                min_k=1,\n",
    "                min_total_works_count=1)\n",
    "\n",
    "if len(results_df):\n",
    "    results_df['year_diff'] = results_df.apply(lambda x: [abs(x['dates_' + dataset_names[0]][i] - x['dates_' + dataset_names[1]][i]) for i in range(2)], axis=1)\n",
    "results_df\n",
    "\n",
    "# Transposed\n",
    "results_df_transposed = []\n",
    "results_df_transposed = check_pairs(dataset_names, \n",
    "                transpose=True,\n",
    "                min_sim=85, max_sim=101, \n",
    "                discard_exaclty_matched_dates=False,\n",
    "                min_k=1,\n",
    "                min_total_works_count=1)\n",
    "if len(results_df_transposed):\n",
    "    results_df_transposed['year_diff'] = results_df_transposed.apply(lambda x: [abs(x['dates_' + dataset_names[0]][i] - x['dates_' + dataset_names[1]][i]) for i in range(2)], axis=1)\n",
    "\n",
    "if len(results_df) and len(results_df_transposed):\n",
    "    appended = results_df.append(results_df_transposed, ignore_index=True)\n",
    "    appended = appended.drop_duplicates(['artist_id_' + key for key in dataset_names])\n",
    "    appended = appended[results_df.columns]\n",
    "#     assert len(appended['artist_id_meisterwerke'].unique()) == len(appended), len(appended['artist_id_meisterwerke'].unique())\n",
    "    appended.sort_values(by='artist_id_wiki+googleart+wga', inplace=True)\n",
    "elif len(results_df):\n",
    "    appended = results_df\n",
    "elif len(results_df_transposed):\n",
    "    appended = results_df_transposed\n",
    "else:\n",
    "    appended = pd.DataFrame()\n",
    "    \n",
    "# appended.sort_values(by='artist_id_wiki+googleart+wga', inplace=True)\n",
    "# appended.sort_values(by='artist_id_meisterwerke', inplace=True)\n",
    "\n",
    "\n",
    "from os.path import expanduser\n",
    "output_path = expanduser('~/workspace/dataset_merger/aggregated/{}_check_matches.csv'.format('-'.join(dataset_names)))\n",
    "appended.to_csv(output_path, encoding='utf-8')\n",
    "print 'Total rows', len(appended)\n",
    "print dataset_names\n",
    "appended\n",
    "# duplicates_df = get_pairs_from_the_same_dataset(dataset_names[::-1], appended, min_sim=100)\n",
    "# output_path = expanduser('~/workspace/dataset_merger/aggregated/{}_duplicates.csv'.format(dataset_names[1]))\n",
    "# duplicates_df.to_csv(output_path, encoding='utf-8')\n",
    "# duplicates_df"
   ]
  },
  {
   "cell_type": "code",
   "execution_count": null,
   "metadata": {},
   "outputs": [],
   "source": [
    "##### MEISTERWERKE #######\n",
    "dataset_names = ['wiki+googleart+wga', 'meisterwerke']\n",
    "sim = sim_matrix['-'.join(dataset_names)]\n",
    "dfs_to_merge = [artists_with_years_dict[key] for key in dataset_names]\n",
    "\n",
    "# artists_with_years_dict['+'.join(dataset_names)] = get_merged_artists_df(dataset_names, dfs_to_merge, sim)\n",
    "\n",
    "\n",
    "assert len(dataset_names) == len(dfs_to_merge)\n",
    "assert sim.shape == (len(dfs_to_merge[0]), len(dfs_to_merge[1])), sim.shape\n",
    "\n",
    "\n",
    "manually_checked_matches_path = 'manually_corrected_matches/{}_manually_corrected_matches.csv'.format(\n",
    "    '-'.join(dataset_names))\n",
    "if os.path.exists(manually_checked_matches_path):\n",
    "    manually_checked_matches_df = pd.read_csv(manually_checked_matches_path, index_col=0,\n",
    "                                              encoding='utf-8')\n",
    "    sim = fix_sim_matrix(dataset_names,\n",
    "                                dfs_to_merge,\n",
    "                                sim,\n",
    "                                manually_checked_matches_df)\n",
    "\n",
    "connected_components = find_connected_components(sim, min_sim=100)\n",
    "big_comp = [x for x in connected_components if len(x) > 2]\n",
    "small_comp = [x for x in connected_components if len(x) <= 2]\n",
    "# connected_components = small_comp + [{el} for x in big_comp for el in x]\n",
    "# big_comp = [x for x in connected_components if len(x) > 2]\n",
    "\n",
    "print 'num big_comp', len(big_comp)\n",
    "# assert len(big_comp) == 0, len(big_comp)\n",
    "big_comp"
   ]
  },
  {
   "cell_type": "code",
   "execution_count": null,
   "metadata": {},
   "outputs": [],
   "source": [
    "# TODO: filter out big components. Recheck them\n",
    "# TODO: merge images wga wiki. googleart\n",
    "# these are mostly followers of the artists in the meisterwerke and workshops.\n",
    "# But they have to be manually checked\n",
    "big_comp\n",
    "items_list = []\n",
    "for comp in big_comp:\n",
    "    for item_id in comp:\n",
    "        df_idx = item_id / int(1e6)\n",
    "#         if df_idx == 0:\n",
    "#             continue\n",
    "        artist_idx = item_id % int(1e6)\n",
    "        items_list.append(dfs_to_merge[df_idx].iloc[artist_idx][['artist_id', 'artist_names', 'years_range']])\n",
    "pd.DataFrame(items_list)"
   ]
  },
  {
   "cell_type": "code",
   "execution_count": null,
   "metadata": {},
   "outputs": [],
   "source": [
    "%autoreload\n",
    "dataset_names = ['wiki+googleart+wga', 'meisterwerke']\n",
    "sim = sim_matrix['-'.join(dataset_names)]\n",
    "dfs_to_merge = [artists_with_years_dict[key] for key in dataset_names]\n",
    "\n",
    "merged_df = get_merged_artists_df(dataset_names, dfs_to_merge, sim, \n",
    "                                  split_big_components=False, \n",
    "                                  allow_big_components=False)\n",
    "artists_with_years_dict['+'.join(dataset_names)] = merged_df\n",
    "print 'Num unique artists:', len(merged_df)\n",
    "merged_df"
   ]
  },
  {
   "cell_type": "code",
   "execution_count": null,
   "metadata": {},
   "outputs": [],
   "source": []
  },
  {
   "cell_type": "code",
   "execution_count": null,
   "metadata": {},
   "outputs": [],
   "source": [
    "artists_with_years_dict['wiki'].loc['wiki_abdul-qader-al-raes']"
   ]
  },
  {
   "cell_type": "code",
   "execution_count": null,
   "metadata": {},
   "outputs": [],
   "source": [
    "dataset_names = ['wiki', 'googleart', 'wga', 'meisterwerke', 'moma', 'wiki+googleart+wga+meisterwerke']\n",
    "for key in dataset_names:\n",
    "    print '{}: {} unique artists'.format(key, len(artists_with_years_dict[key]))"
   ]
  },
  {
   "cell_type": "code",
   "execution_count": null,
   "metadata": {
    "scrolled": true
   },
   "outputs": [],
   "source": [
    "##### MOMA #######\n",
    "\n",
    "%autoreload\n",
    "keys = ['wiki+googleart+wga+meisterwerke', 'moma']\n",
    "get_sim_matrix_and_plot(keys, force=True, n_jobs=16)"
   ]
  },
  {
   "cell_type": "code",
   "execution_count": null,
   "metadata": {},
   "outputs": [],
   "source": [
    "##### MOMA #######\n",
    "%autoreload\n",
    "dataset_names = ['wiki+googleart+wga+meisterwerke', 'moma']\n",
    "results_df = []\n",
    "results_df = check_pairs(dataset_names, \n",
    "                transpose=False,\n",
    "                min_sim=84, max_sim=101, \n",
    "                discard_exaclty_matched_dates=True,\n",
    "                min_k=1,\n",
    "                min_total_works_count=0)\n",
    "\n",
    "if len(results_df):\n",
    "    results_df['year_diff'] = results_df.apply(lambda x: [abs(x['dates_' + dataset_names[0]][i] - x['dates_' + dataset_names[1]][i]) for i in range(2)], axis=1)\n",
    "results_df\n",
    "\n",
    "# Transposed\n",
    "results_df_transposed = []\n",
    "results_df_transposed = check_pairs(dataset_names, \n",
    "                transpose=True,\n",
    "                min_sim=84, max_sim=101, \n",
    "                discard_exaclty_matched_dates=True,\n",
    "                min_k=1,\n",
    "                min_total_works_count=0)\n",
    "if len(results_df_transposed):\n",
    "    results_df_transposed['year_diff'] = results_df_transposed.apply(lambda x: [abs(x['dates_' + dataset_names[0]][i] - x['dates_' + dataset_names[1]][i]) for i in range(2)], axis=1)\n",
    "\n",
    "if len(results_df) and len(results_df_transposed):\n",
    "    appended = results_df.append(results_df_transposed, ignore_index=True)\n",
    "    appended = appended.drop_duplicates(['artist_id_' + key for key in dataset_names])\n",
    "    appended = appended[results_df.columns]\n",
    "#     assert len(appended['artist_id_meisterwerke'].unique()) == len(appended), len(appended['artist_id_meisterwerke'].unique())\n",
    "    appended.sort_values(by='artist_id_' + dataset_names[0], inplace=True)\n",
    "elif len(results_df):\n",
    "    appended = results_df\n",
    "elif len(results_df_transposed):\n",
    "    appended = results_df_transposed\n",
    "else:\n",
    "    appended = pd.DataFrame()\n",
    "    \n",
    "# appended.sort_values(by='artist_id_wiki+googleart+wga', inplace=True)\n",
    "# appended.sort_values(by='artist_id_meisterwerke', inplace=True)\n",
    "\n",
    "\n",
    "from os.path import expanduser\n",
    "output_path = expanduser('~/workspace/dataset_merger/aggregated/{}_check_matches.csv'.format('-'.join(dataset_names)))\n",
    "appended.to_csv(output_path, encoding='utf-8')\n",
    "print 'Total rows', len(appended)\n",
    "print dataset_names\n",
    "appended\n",
    "# duplicates_df = get_pairs_from_the_same_dataset(dataset_names[::-1], appended, min_sim=100)\n",
    "# output_path = expanduser('~/workspace/dataset_merger/aggregated/{}_duplicates.csv'.format(dataset_names[1]))\n",
    "# duplicates_df.to_csv(output_path, encoding='utf-8')\n",
    "# duplicates_df"
   ]
  },
  {
   "cell_type": "code",
   "execution_count": null,
   "metadata": {},
   "outputs": [],
   "source": [
    "%autoreload\n",
    "dataset_names = ['wiki+googleart+wga+meisterwerke', 'moma']\n",
    "sim = sim_matrix['-'.join(dataset_names)]\n",
    "dfs_to_merge = [artists_with_years_dict[key] for key in dataset_names]\n",
    "\n",
    "merged_df = get_merged_artists_df(dataset_names, dfs_to_merge, sim, \n",
    "                                  split_big_components=False, \n",
    "                                  allow_big_components=False)\n",
    "merged_df = merged_df[merged_df['works_count'] > 0]\n",
    "artists_with_years_dict['+'.join(dataset_names)] = merged_df\n",
    "print 'Num unique artists:', len(merged_df)\n",
    "# merged_df.to_hdf('info/artists_{}_v0.93.hdf5'.format('+'.join(dataset_names)), 'df', mode='w')\n",
    "merged_df.head()"
   ]
  },
  {
   "cell_type": "code",
   "execution_count": null,
   "metadata": {},
   "outputs": [],
   "source": [
    "for key in artists_with_years_dict.keys():\n",
    "    print '{}: {} unique artists'.format(key, len(artists_with_years_dict[key]))"
   ]
  },
  {
   "cell_type": "code",
   "execution_count": null,
   "metadata": {},
   "outputs": [],
   "source": [
    "##### ARTUK #######\n",
    "%autoreload\n",
    "keys = ['wiki+googleart+wga+meisterwerke+moma', 'artuk']\n",
    "get_sim_matrix_and_plot(keys, force=True, n_jobs=16)"
   ]
  },
  {
   "cell_type": "code",
   "execution_count": null,
   "metadata": {
    "collapsed": true
   },
   "outputs": [],
   "source": [
    "##### ARTUK #######\n",
    "%autoreload\n",
    "dataset_names = ['wiki+googleart+wga+meisterwerke+moma', 'artuk']\n",
    "results_df = []\n",
    "results_df = check_pairs(dataset_names, \n",
    "                transpose=False,\n",
    "                min_sim=84, max_sim=101, \n",
    "                discard_exaclty_matched_dates=True,\n",
    "                min_k=1,\n",
    "                min_total_works_count=0)\n",
    "\n",
    "if len(results_df):\n",
    "    results_df['year_diff'] = results_df.apply(lambda x: [abs(x['dates_' + dataset_names[0]][i] - x['dates_' + dataset_names[1]][i]) for i in range(2)], axis=1)\n",
    "results_df\n",
    "\n",
    "# Transposed\n",
    "results_df_transposed = []\n",
    "results_df_transposed = check_pairs(dataset_names, \n",
    "                transpose=True,\n",
    "                min_sim=84, max_sim=101, \n",
    "                discard_exaclty_matched_dates=True,\n",
    "                min_k=1,\n",
    "                min_total_works_count=0)\n",
    "if len(results_df_transposed):\n",
    "    results_df_transposed['year_diff'] = results_df_transposed.apply(lambda x: [abs(x['dates_' + dataset_names[0]][i] - x['dates_' + dataset_names[1]][i]) for i in range(2)], axis=1)\n",
    "\n",
    "if len(results_df) and len(results_df_transposed):\n",
    "    appended = results_df.append(results_df_transposed, ignore_index=True)\n",
    "    appended = appended.drop_duplicates(['artist_id_' + key for key in dataset_names])\n",
    "    appended = appended[results_df.columns]\n",
    "#     assert len(appended['artist_id_meisterwerke'].unique()) == len(appended), len(appended['artist_id_meisterwerke'].unique())\n",
    "    appended.sort_values(by='artist_id_' + dataset_names[0], inplace=True)\n",
    "elif len(results_df):\n",
    "    appended = results_df\n",
    "elif len(results_df_transposed):\n",
    "    appended = results_df_transposed\n",
    "else:\n",
    "    appended = pd.DataFrame()\n",
    "    \n",
    "# appended.sort_values(by='artist_id_wiki+googleart+wga', inplace=True)\n",
    "# appended.sort_values(by='artist_id_meisterwerke', inplace=True)\n",
    "\n",
    "\n",
    "from os.path import expanduser\n",
    "output_path = expanduser('~/workspace/dataset_merger/aggregated/{}_check_matches.csv'.format('-'.join(dataset_names)))\n",
    "appended.to_csv(output_path, encoding='utf-8')\n",
    "print 'Total rows', len(appended)\n",
    "print dataset_names\n",
    "appended\n",
    "# duplicates_df = get_pairs_from_the_same_dataset(dataset_names[::-1], appended, min_sim=100)\n",
    "# output_path = expanduser('~/workspace/dataset_merger/aggregated/{}_duplicates.csv'.format(dataset_names[1]))\n",
    "# duplicates_df.to_csv(output_path, encoding='utf-8')\n",
    "# duplicates_df"
   ]
  },
  {
   "cell_type": "code",
   "execution_count": null,
   "metadata": {
    "collapsed": true
   },
   "outputs": [],
   "source": [
    "%autoreload\n",
    "dataset_names = ['wiki+googleart+wga+meisterwerke+moma', 'artuk']\n",
    "sim = sim_matrix['-'.join(dataset_names)]\n",
    "dfs_to_merge = [artists_with_years_dict[key] for key in dataset_names]\n",
    "\n",
    "merged_df = get_merged_artists_df(dataset_names, dfs_to_merge, sim, \n",
    "                                  split_big_components=False, \n",
    "                                  allow_big_components=False)\n",
    "merged_df = merged_df[merged_df['works_count'] > 0]\n",
    "artists_with_years_dict['+'.join(dataset_names)] = merged_df\n",
    "print 'Num unique artists:', len(merged_df)\n",
    "# merged_df.to_hdf('info/artists_{}_v0.93.hdf5'.format('+'.join(dataset_names)), 'df', mode='w')\n",
    "merged_df.head()"
   ]
  },
  {
   "cell_type": "code",
   "execution_count": null,
   "metadata": {
    "collapsed": true
   },
   "outputs": [],
   "source": []
  }
 ],
 "metadata": {
  "kernelspec": {
   "display_name": "Python 2",
   "language": "python",
   "name": "python2"
  },
  "language_info": {
   "codemirror_mode": {
    "name": "ipython",
    "version": 2
   },
   "file_extension": ".py",
   "mimetype": "text/x-python",
   "name": "python",
   "nbconvert_exporter": "python",
   "pygments_lexer": "ipython2",
   "version": "2.7.12"
  }
 },
 "nbformat": 4,
 "nbformat_minor": 2
}
